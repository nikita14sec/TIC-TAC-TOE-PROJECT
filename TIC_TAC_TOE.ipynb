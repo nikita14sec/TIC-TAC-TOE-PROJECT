{
  "nbformat": 4,
  "nbformat_minor": 0,
  "metadata": {
    "colab": {
      "name": "TIC TAC TOE.ipynb",
      "provenance": []
    },
    "kernelspec": {
      "name": "python3",
      "display_name": "Python 3"
    },
    "language_info": {
      "name": "python"
    }
  },
  "cells": [
    {
      "cell_type": "code",
      "execution_count": null,
      "metadata": {
        "colab": {
          "base_uri": "https://localhost:8080/"
        },
        "id": "OvpeeJQlUhaW",
        "outputId": "f6ce14dd-f829-4b5c-b162-6f86151e25ae"
      },
      "outputs": [
        {
          "output_type": "stream",
          "name": "stdout",
          "text": [
            "X| | \n",
            "_|_|_\n",
            " |X|O\n",
            "_|_|_\n",
            " |O|X\n",
            " | | \n",
            "player 1, won the game\n",
            "Do you want to play this game?NO\n",
            "Thank you\n"
          ]
        }
      ],
      "source": [
        "from IPython.display import clear_output                          #function to display table\n",
        "def display_board(myboard):\n",
        "    clear_output()\n",
        "    am=myboard[0]\n",
        "    print(myboard[7] + '|' + myboard[8] + '|' + myboard[9])\n",
        "    print('_|_|_')\n",
        "    print(myboard[4] + '|' + myboard[5] + '|' + myboard[6])\n",
        "    print('_|_|_')\n",
        "    print(myboard[1] + '|' + myboard[2] + '|' + myboard[3])\n",
        "    print(' | | ')\n",
        "#for getting the marker\n",
        "def inputmarker():\n",
        "    player1_marker = ' '\n",
        "    player1_marker = ' '             \n",
        "    while player1_marker not in 'XO':\n",
        "        player1_marker = input('Player 1, choose marker:')\n",
        "        if player1_marker == 'X':\n",
        "            player2_marker = 'O'\n",
        "        else:\n",
        "            player2_marker = 'X'\n",
        "    return player1_marker,player2_marker\n",
        "def playgame(n,player1_marker,player2_marker,myboard):         #gameplay\n",
        "    if n%2 == 0:\n",
        "        temp = int(input('Player 2, enter the position of marker:'))\n",
        "        myboard[temp] = player2_marker\n",
        "    else:\n",
        "        temp = int(input('Player 1, enter the position of marker:'))\n",
        "        myboard[temp] = player1_marker\n",
        "def checkwinforp(symbol,myboard):                                          #wining condition\n",
        "        if(myboard[1] == myboard[2] == myboard[3] == symbol) or \\\n",
        "        (myboard[4] == myboard[5] == myboard[6] == symbol) or \\\n",
        "        (myboard[7] == myboard[8] == myboard[9] == symbol) or \\\n",
        "        (myboard[1] == myboard[4] == myboard[7] == symbol) or \\\n",
        "        (myboard[2] == myboard[5] == myboard[8] == symbol) or \\\n",
        "        (myboard[3] == myboard[6] == myboard[9] == symbol) or \\\n",
        "        (myboard[1] == myboard[5] == myboard[9] == symbol) or \\\n",
        "        (myboard[3] == myboard[5] == myboard[7] == symbol):\n",
        "            return True\n",
        "        else:\n",
        "            return False\n",
        "def checktie(myboard):                            #tie check\n",
        "    count = 0\n",
        "    for a in range(1,10):\n",
        "        if myboard[a] == \"X\" or myboard[a] == \"O\":\n",
        "            count += 1\n",
        "    if count == 9:\n",
        "        print(\"The game ends in a Tie\\n\")\n",
        "        return True\n",
        "    return False\n",
        "def qask():                                 #to ask if user wants to play again\n",
        "    wish = input('Do you want to play this game?')\n",
        "    if wish == 'YES' or wish == 'yes':\n",
        "       \n",
        "        return True\n",
        "    else:\n",
        "        print('Thank you')\n",
        "        return False\n",
        "\n",
        "well=True\n",
        "while well==True:\n",
        "    myboard=[' ']*10 \n",
        "    symbol1,symbol2 = inputmarker()\n",
        "    index=1\n",
        "    while index < 100:\n",
        "        playgame(index,symbol1,symbol2,myboard)\n",
        "        display_board(myboard)\n",
        "        if checkwinforp(symbol1,myboard)==True:\n",
        "            print('player 1, won the game')\n",
        "            break\n",
        "        elif checkwinforp(symbol2,myboard):\n",
        "            print('player 2, won the game')\n",
        "            break\n",
        "        elif checktie(myboard)==True:\n",
        "            break\n",
        "        index+=1\n",
        "    well=qask()"
      ]
    }
  ]
}